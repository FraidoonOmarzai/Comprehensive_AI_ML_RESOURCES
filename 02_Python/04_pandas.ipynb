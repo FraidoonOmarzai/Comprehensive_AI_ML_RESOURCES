{
 "cells": [
  {
   "cell_type": "markdown",
   "metadata": {},
   "source": [
    "<h1 align=center> Pandas In Depth With Practical Example </h1>\n",
    "\n",
    "Pandas is a powerful and flexible data analysis library for Python. It is built on top of NumPy and provides high-performance, easy-to-use data structures and data analysis tools.\n",
    "\n",
    "![alt text](../Images/python/pd.png)"
   ]
  },
  {
   "cell_type": "markdown",
   "metadata": {},
   "source": [
    "### Installation"
   ]
  },
  {
   "cell_type": "code",
   "execution_count": null,
   "metadata": {},
   "outputs": [],
   "source": [
    "!pip install pandas"
   ]
  },
  {
   "cell_type": "code",
   "execution_count": 3,
   "metadata": {},
   "outputs": [
    {
     "name": "stdout",
     "output_type": "stream",
     "text": [
      "1.5.3\n"
     ]
    }
   ],
   "source": [
    "import pandas as pd\n",
    "print(pd.__version__)"
   ]
  },
  {
   "cell_type": "markdown",
   "metadata": {},
   "source": [
    "### ### 1. **Pandas Data Structures**\n",
    "\n",
    "Pandas primarily provides two data structures: `Series` and `DataFrame`.\n",
    "\n",
    "- **Series**: A one-dimensional array-like object that can hold any data type. It is labeled with an index.\n",
    "- **DataFrame**: A two-dimensional labeled data structure with columns of potentially different types. It is essentially a table with rows and columns.\n",
    "\n",
    "**Creating a Series:**"
   ]
  },
  {
   "cell_type": "code",
   "execution_count": 5,
   "metadata": {},
   "outputs": [
    {
     "name": "stdout",
     "output_type": "stream",
     "text": [
      "0    1.0\n",
      "1    3.0\n",
      "2    5.0\n",
      "3    NaN\n",
      "4    6.0\n",
      "5    8.0\n",
      "dtype: float64\n"
     ]
    }
   ],
   "source": [
    "import pandas as pd\n",
    "import numpy as np\n",
    "\n",
    "# Creating a Series\n",
    "s = pd.Series([1, 3, 5, np.nan, 6, 8])\n",
    "print(s)"
   ]
  },
  {
   "cell_type": "markdown",
   "metadata": {},
   "source": [
    "**Creating a DataFrame:**"
   ]
  },
  {
   "cell_type": "code",
   "execution_count": 6,
   "metadata": {},
   "outputs": [
    {
     "name": "stdout",
     "output_type": "stream",
     "text": [
      "                   A         B         C         D\n",
      "2023-01-01 -0.745426  1.579924  1.150744 -0.174638\n",
      "2023-01-02  1.126391  1.754457  0.528089 -1.198405\n",
      "2023-01-03  1.068982  2.095869  1.878410 -1.024533\n",
      "2023-01-04  1.213072 -1.115344  1.402245  0.137835\n",
      "2023-01-05  0.725249 -1.665791 -1.060483 -1.086514\n",
      "2023-01-06  0.624734  2.514017  0.500033 -1.863500\n"
     ]
    }
   ],
   "source": [
    "# Creating a DataFrame with random data\n",
    "dates = pd.date_range(\"20230101\", periods=6)\n",
    "df = pd.DataFrame(np.random.randn(6, 4), index=dates, columns=list(\"ABCD\"))\n",
    "print(df)"
   ]
  },
  {
   "cell_type": "markdown",
   "metadata": {},
   "source": [
    "### 2. **Data Selection**\n",
    "\n",
    "You can select data from a `DataFrame` using labels (column names) or positions.\n",
    "\n",
    "**Selecting by Label:**"
   ]
  },
  {
   "cell_type": "code",
   "execution_count": 7,
   "metadata": {},
   "outputs": [
    {
     "name": "stdout",
     "output_type": "stream",
     "text": [
      "2023-01-01   -0.745426\n",
      "2023-01-02    1.126391\n",
      "2023-01-03    1.068982\n",
      "2023-01-04    1.213072\n",
      "2023-01-05    0.725249\n",
      "2023-01-06    0.624734\n",
      "Freq: D, Name: A, dtype: float64\n",
      "A   -0.745426\n",
      "B    1.579924\n",
      "C    1.150744\n",
      "D   -0.174638\n",
      "Name: 2023-01-01 00:00:00, dtype: float64\n",
      "                   A         B\n",
      "2023-01-01 -0.745426  1.579924\n",
      "2023-01-02  1.126391  1.754457\n",
      "2023-01-03  1.068982  2.095869\n",
      "2023-01-04  1.213072 -1.115344\n",
      "2023-01-05  0.725249 -1.665791\n",
      "2023-01-06  0.624734  2.514017\n"
     ]
    }
   ],
   "source": [
    "# Selecting a single column\n",
    "print(df['A'])\n",
    "\n",
    "# Selecting rows by label\n",
    "print(df.loc[dates[0]])\n",
    "\n",
    "# Selecting a subset of the DataFrame\n",
    "print(df.loc[:, ['A', 'B']])"
   ]
  },
  {
   "cell_type": "markdown",
   "metadata": {},
   "source": [
    "**Selecting by Position:**"
   ]
  },
  {
   "cell_type": "code",
   "execution_count": 8,
   "metadata": {},
   "outputs": [
    {
     "name": "stdout",
     "output_type": "stream",
     "text": [
      "A    1.213072\n",
      "B   -1.115344\n",
      "C    1.402245\n",
      "D    0.137835\n",
      "Name: 2023-01-04 00:00:00, dtype: float64\n",
      "                   A         B\n",
      "2023-01-04  1.213072 -1.115344\n",
      "2023-01-05  0.725249 -1.665791\n"
     ]
    }
   ],
   "source": [
    "# Selecting via position\n",
    "print(df.iloc[3])\n",
    "\n",
    "# Selecting a range of rows\n",
    "print(df.iloc[3:5, 0:2])"
   ]
  },
  {
   "cell_type": "markdown",
   "metadata": {},
   "source": [
    "### **3. Data Manipulation**\n",
    "\n",
    "**Filtering:**"
   ]
  },
  {
   "cell_type": "code",
   "execution_count": 9,
   "metadata": {},
   "outputs": [
    {
     "name": "stdout",
     "output_type": "stream",
     "text": [
      "                   A         B         C         D\n",
      "2023-01-02  1.126391  1.754457  0.528089 -1.198405\n",
      "2023-01-03  1.068982  2.095869  1.878410 -1.024533\n",
      "2023-01-04  1.213072 -1.115344  1.402245  0.137835\n",
      "2023-01-05  0.725249 -1.665791 -1.060483 -1.086514\n",
      "2023-01-06  0.624734  2.514017  0.500033 -1.863500\n"
     ]
    }
   ],
   "source": [
    "# Boolean indexing\n",
    "print(df[df['A'] > 0])"
   ]
  },
  {
   "cell_type": "markdown",
   "metadata": {},
   "source": [
    "**Setting Values:**"
   ]
  },
  {
   "cell_type": "code",
   "execution_count": 10,
   "metadata": {},
   "outputs": [
    {
     "name": "stdout",
     "output_type": "stream",
     "text": [
      "                   A         B         C         D  E\n",
      "2023-01-01 -0.745426  1.579924  1.150744 -0.174638  5\n",
      "2023-01-02  1.126391  1.754457  0.528089 -1.198405  5\n",
      "2023-01-03  1.068982  2.095869  1.878410 -1.024533  5\n",
      "2023-01-04  1.213072 -1.115344  1.402245  0.137835  5\n",
      "2023-01-05  0.725249 -1.665791 -1.060483 -1.086514  5\n",
      "2023-01-06  0.624734  2.514017  0.500033 -1.863500  5\n",
      "                   A         B         C         D  E    F\n",
      "2023-01-01 -0.745426  1.579924  1.150744 -0.174638  5  NaN\n",
      "2023-01-02  1.126391  1.754457  0.528089 -1.198405  5  1.0\n",
      "2023-01-03  1.068982  2.095869  1.878410 -1.024533  5  1.0\n",
      "2023-01-04  1.213072 -1.115344  1.402245  0.137835  5  1.0\n",
      "2023-01-05  0.725249 -1.665791 -1.060483 -1.086514  5  1.0\n",
      "2023-01-06  0.624734  2.514017  0.500033 -1.863500  5  1.0\n"
     ]
    }
   ],
   "source": [
    "# Setting a new column with a scalar value\n",
    "df['E'] = 5\n",
    "print(df)\n",
    "\n",
    "# Setting values based on condition\n",
    "df.loc[df['A'] > 0, 'F'] = 1\n",
    "print(df)"
   ]
  },
  {
   "cell_type": "markdown",
   "metadata": {},
   "source": [
    "**Handling Missing Data:** Pandas provides methods to handle missing data, such as filling or dropping missing values."
   ]
  },
  {
   "cell_type": "code",
   "execution_count": 11,
   "metadata": {},
   "outputs": [
    {
     "name": "stdout",
     "output_type": "stream",
     "text": [
      "                   A         B         C         D  E    F  E\n",
      "2023-01-01 -0.745426  1.579924  1.150744 -0.174638  1  NaN  1\n",
      "2023-01-02  1.126391  1.754457  0.528089 -1.198405  1  1.0  1\n",
      "2023-01-03  1.068982  2.095869  1.878410 -1.024533  5  1.0  5\n",
      "2023-01-04  1.213072 -1.115344  1.402245  0.137835  5  1.0  5\n",
      "                   A         B         C         D  E    F  E\n",
      "2023-01-02  1.126391  1.754457  0.528089 -1.198405  1  1.0  1\n",
      "2023-01-03  1.068982  2.095869  1.878410 -1.024533  5  1.0  5\n",
      "2023-01-04  1.213072 -1.115344  1.402245  0.137835  5  1.0  5\n",
      "                   A         B         C         D  E    F  E\n",
      "2023-01-01 -0.745426  1.579924  1.150744 -0.174638  1  2.0  1\n",
      "2023-01-02  1.126391  1.754457  0.528089 -1.198405  1  1.0  1\n",
      "2023-01-03  1.068982  2.095869  1.878410 -1.024533  5  1.0  5\n",
      "2023-01-04  1.213072 -1.115344  1.402245  0.137835  5  1.0  5\n"
     ]
    }
   ],
   "source": [
    "# Reindexing with missing data\n",
    "df2 = df.reindex(index=dates[:4], columns=list(df.columns) + ['E'])\n",
    "df2.loc[dates[0]:dates[1], 'E'] = 1\n",
    "print(df2)\n",
    "\n",
    "# Dropping missing data\n",
    "print(df2.dropna(how='any'))\n",
    "\n",
    "# Filling missing data\n",
    "print(df2.fillna(value=2))"
   ]
  },
  {
   "cell_type": "markdown",
   "metadata": {},
   "source": [
    "**Sorting Data:**"
   ]
  },
  {
   "cell_type": "code",
   "execution_count": 14,
   "metadata": {},
   "outputs": [
    {
     "name": "stdout",
     "output_type": "stream",
     "text": [
      "                   A         B         C         D  E    F\n",
      "2023-01-01 -0.745426  1.579924  1.150744 -0.174638  5  NaN\n",
      "2023-01-06  0.624734  2.514017  0.500033 -1.863500  5  1.0\n",
      "2023-01-05  0.725249 -1.665791 -1.060483 -1.086514  5  1.0\n",
      "2023-01-03  1.068982  2.095869  1.878410 -1.024533  5  1.0\n",
      "2023-01-02  1.126391  1.754457  0.528089 -1.198405  5  1.0\n",
      "2023-01-04  1.213072 -1.115344  1.402245  0.137835  5  1.0\n",
      "                   A         B         C         D  E    F\n",
      "2023-01-01 -0.745426  1.579924  1.150744 -0.174638  5  NaN\n",
      "2023-01-06  0.624734  2.514017  0.500033 -1.863500  5  1.0\n",
      "2023-01-05  0.725249 -1.665791 -1.060483 -1.086514  5  1.0\n",
      "2023-01-03  1.068982  2.095869  1.878410 -1.024533  5  1.0\n",
      "2023-01-02  1.126391  1.754457  0.528089 -1.198405  5  1.0\n",
      "2023-01-04  1.213072 -1.115344  1.402245  0.137835  5  1.0\n"
     ]
    }
   ],
   "source": [
    "# Sorting by a single column\n",
    "sorted_by_A = df.sort_values(by='A')\n",
    "print(sorted_by_A)\n",
    "\n",
    "# Sorting by multiple columns\n",
    "sorted_by_A_B = df.sort_values(by=['A', 'B'], ascending=[True, False])\n",
    "print(sorted_by_A_B)"
   ]
  },
  {
   "cell_type": "markdown",
   "metadata": {},
   "source": [
    "### 4. **Operations**\n",
    "\n",
    "**Statistics**"
   ]
  },
  {
   "cell_type": "code",
   "execution_count": 15,
   "metadata": {},
   "outputs": [
    {
     "name": "stdout",
     "output_type": "stream",
     "text": [
      "A    0.668834\n",
      "B    0.860522\n",
      "C    0.733173\n",
      "D   -0.868293\n",
      "E    5.000000\n",
      "F    1.000000\n",
      "dtype: float64\n",
      "                   A         B         C         D   E    F\n",
      "2023-01-01 -0.745426  1.579924  1.150744 -0.174638   5  NaN\n",
      "2023-01-02  0.380964  3.334381  1.678833 -1.373043  10  1.0\n",
      "2023-01-03  1.449947  5.430250  3.557242 -2.397576  15  2.0\n",
      "2023-01-04  2.663018  4.314906  4.959487 -2.259741  20  3.0\n",
      "2023-01-05  3.388267  2.649115  3.899004 -3.346255  25  4.0\n",
      "2023-01-06  4.013001  5.163132  4.399037 -5.209756  30  5.0\n"
     ]
    }
   ],
   "source": [
    "# Mean of each column\n",
    "print(df.mean())\n",
    "\n",
    "# Apply a function to the data\n",
    "print(df.apply(np.cumsum))"
   ]
  },
  {
   "cell_type": "markdown",
   "metadata": {},
   "source": [
    "**String Operations:**"
   ]
  },
  {
   "cell_type": "code",
   "execution_count": 17,
   "metadata": {},
   "outputs": [
    {
     "name": "stdout",
     "output_type": "stream",
     "text": [
      "0      a\n",
      "1      b\n",
      "2      c\n",
      "3    NaN\n",
      "4      d\n",
      "5      e\n",
      "dtype: object\n"
     ]
    }
   ],
   "source": [
    "# String methods on Series\n",
    "s = pd.Series(['A', 'B', 'C', np.nan, 'D', 'E'])\n",
    "print(s.str.lower())"
   ]
  },
  {
   "cell_type": "markdown",
   "metadata": {},
   "source": [
    "### 5. **Merging and Joining**\n",
    "\n",
    "**Concatenation:**"
   ]
  },
  {
   "cell_type": "code",
   "execution_count": 18,
   "metadata": {},
   "outputs": [
    {
     "name": "stdout",
     "output_type": "stream",
     "text": [
      "          0         1         2         3\n",
      "0 -2.594314 -0.506534 -0.249787  2.364124\n",
      "1 -1.510277 -0.828989  1.361895  0.110140\n",
      "2 -1.200551 -2.259151  1.026068 -0.683103\n",
      "3  0.056400  1.933020 -0.620042  0.134201\n",
      "4 -1.569645 -0.567224 -0.165832  0.358226\n",
      "5 -0.213154 -1.294559  0.767549  1.133990\n",
      "6  0.485698  0.581887  1.034568  0.203325\n",
      "7  0.022861 -0.897811 -0.756827 -1.175211\n",
      "8 -0.568735  0.690528  1.960335 -1.213556\n",
      "9 -0.871889  0.201003  0.105762  1.102063\n"
     ]
    }
   ],
   "source": [
    "# Concatenating DataFrames\n",
    "df3 = pd.DataFrame(np.random.randn(10, 4))\n",
    "pieces = [df3[:3], df3[3:7], df3[7:]]\n",
    "print(pd.concat(pieces))"
   ]
  },
  {
   "cell_type": "markdown",
   "metadata": {},
   "source": [
    "**Merging:**"
   ]
  },
  {
   "cell_type": "code",
   "execution_count": 19,
   "metadata": {},
   "outputs": [
    {
     "name": "stdout",
     "output_type": "stream",
     "text": [
      "   key  lval  rval\n",
      "0  foo     1     4\n",
      "1  bar     2     5\n"
     ]
    }
   ],
   "source": [
    "# Merging two DataFrames\n",
    "left = pd.DataFrame({'key': ['foo', 'bar'], 'lval': [1, 2]})\n",
    "right = pd.DataFrame({'key': ['foo', 'bar'], 'rval': [4, 5]})\n",
    "print(pd.merge(left, right, on='key'))"
   ]
  },
  {
   "cell_type": "markdown",
   "metadata": {},
   "source": [
    "### 6. **Group By**\n",
    "\n",
    "**Grouping:**"
   ]
  },
  {
   "cell_type": "code",
   "execution_count": 24,
   "metadata": {},
   "outputs": [
    {
     "data": {
      "text/html": [
       "<div>\n",
       "<style scoped>\n",
       "    .dataframe tbody tr th:only-of-type {\n",
       "        vertical-align: middle;\n",
       "    }\n",
       "\n",
       "    .dataframe tbody tr th {\n",
       "        vertical-align: top;\n",
       "    }\n",
       "\n",
       "    .dataframe thead th {\n",
       "        text-align: right;\n",
       "    }\n",
       "</style>\n",
       "<table border=\"1\" class=\"dataframe\">\n",
       "  <thead>\n",
       "    <tr style=\"text-align: right;\">\n",
       "      <th></th>\n",
       "      <th>B</th>\n",
       "      <th>C</th>\n",
       "      <th>D</th>\n",
       "    </tr>\n",
       "    <tr>\n",
       "      <th>A</th>\n",
       "      <th></th>\n",
       "      <th></th>\n",
       "      <th></th>\n",
       "    </tr>\n",
       "  </thead>\n",
       "  <tbody>\n",
       "    <tr>\n",
       "      <th>bar</th>\n",
       "      <td>onetwo</td>\n",
       "      <td>-0.800622</td>\n",
       "      <td>0.910980</td>\n",
       "    </tr>\n",
       "    <tr>\n",
       "      <th>foo</th>\n",
       "      <td>onetwo</td>\n",
       "      <td>2.268077</td>\n",
       "      <td>1.803134</td>\n",
       "    </tr>\n",
       "  </tbody>\n",
       "</table>\n",
       "</div>"
      ],
      "text/plain": [
       "          B         C         D\n",
       "A                              \n",
       "bar  onetwo -0.800622  0.910980\n",
       "foo  onetwo  2.268077  1.803134"
      ]
     },
     "execution_count": 24,
     "metadata": {},
     "output_type": "execute_result"
    }
   ],
   "source": [
    "# Grouping data\n",
    "df = pd.DataFrame({'A': ['foo', 'bar', 'foo', 'bar'],\n",
    "                    'B': ['one', 'one', 'two', 'two'],\n",
    "                    'C': np.random.randn(4),\n",
    "                    'D': np.random.randn(4)})\n",
    "\n",
    "grouped = df.groupby('A')\n",
    "grouped.sum(numeric_only=False)"
   ]
  },
  {
   "cell_type": "markdown",
   "metadata": {},
   "source": [
    "### 7. **Applying Functions**\n",
    "\n",
    "Pandas allows the application of functions across rows and columns for more complex operations.\n",
    "\n",
    "**Applying Functions:**"
   ]
  },
  {
   "cell_type": "code",
   "execution_count": 32,
   "metadata": {},
   "outputs": [
    {
     "data": {
      "text/plain": [
       "0    one1\n",
       "1    one1\n",
       "2    two1\n",
       "3    two1\n",
       "Name: B, dtype: object"
      ]
     },
     "execution_count": 32,
     "metadata": {},
     "output_type": "execute_result"
    }
   ],
   "source": [
    "# Applying a function to a column\n",
    "df['B'].apply(lambda x: x + '1')"
   ]
  },
  {
   "cell_type": "markdown",
   "metadata": {},
   "source": [
    "### 8. **Reshaping**\n",
    "\n",
    "**Pivot Tables:** Pandas supports creating pivot tables, a powerful tool for data aggregation."
   ]
  },
  {
   "cell_type": "code",
   "execution_count": 33,
   "metadata": {},
   "outputs": [
    {
     "name": "stdout",
     "output_type": "stream",
     "text": [
      "C             bar       foo\n",
      "A     B                    \n",
      "one   A -0.378827  0.843241\n",
      "      B  0.259085 -0.972058\n",
      "      C  0.666966 -1.309207\n",
      "three A  1.143198       NaN\n",
      "      B       NaN -0.596718\n",
      "      C -0.211066       NaN\n",
      "two   A       NaN  0.655759\n",
      "      B  1.053144       NaN\n",
      "      C       NaN -0.452530\n"
     ]
    }
   ],
   "source": [
    "# Creating a pivot table\n",
    "df5 = pd.DataFrame({\n",
    "    'A': ['one', 'one', 'two', 'three'] * 3,\n",
    "    'B': ['A', 'B', 'C'] * 4,\n",
    "    'C': ['foo', 'foo', 'foo', 'bar', 'bar', 'bar'] * 2,\n",
    "    'D': np.random.randn(12),\n",
    "    'E': np.random.randn(12)\n",
    "})\n",
    "\n",
    "print(pd.pivot_table(df5, values='D', index=['A', 'B'], columns=['C']))"
   ]
  },
  {
   "cell_type": "markdown",
   "metadata": {},
   "source": [
    "### 9. **Working with Time Series Data**\n",
    "\n",
    "Pandas has strong support for working with time series data.\n",
    "\n",
    "**Time Series Data:**"
   ]
  },
  {
   "cell_type": "code",
   "execution_count": 34,
   "metadata": {},
   "outputs": [
    {
     "name": "stdout",
     "output_type": "stream",
     "text": [
      "            Value\n",
      "Date             \n",
      "2023-01-01      5\n",
      "2023-01-02     10\n",
      "2023-01-03     15\n",
      "2023-01-04     20\n",
      "2023-01-05     25\n",
      "2023-01-06     30\n",
      "2023-01-07     35\n",
      "2023-01-08     40\n",
      "2023-01-09     45\n",
      "2023-01-10     50\n",
      "            Value\n",
      "Date             \n",
      "2023-01-01     15\n",
      "2023-01-03     35\n",
      "2023-01-05     55\n",
      "2023-01-07     75\n",
      "2023-01-09     95\n"
     ]
    }
   ],
   "source": [
    "# Creating a date range\n",
    "date_range = pd.date_range(start='2023-01-01', end='2023-01-10')\n",
    "\n",
    "# Creating a DataFrame with time series data\n",
    "ts_df = pd.DataFrame({\n",
    "    'Date': date_range,\n",
    "    'Value': [5, 10, 15, 20, 25, 30, 35, 40, 45, 50]\n",
    "})\n",
    "ts_df.set_index('Date', inplace=True)\n",
    "print(ts_df)\n",
    "\n",
    "# Resampling time series data (e.g., downsampling to a different frequency)\n",
    "resampled_ts = ts_df.resample('2D').sum()\n",
    "print(resampled_ts)"
   ]
  },
  {
   "cell_type": "markdown",
   "metadata": {},
   "source": [
    "### 10. **Visualization**\n",
    "\n",
    "Pandas integrates well with Matplotlib for quick and easy data visualization.\n",
    "\n",
    "**Plotting Data:**"
   ]
  },
  {
   "cell_type": "code",
   "execution_count": 35,
   "metadata": {},
   "outputs": [
    {
     "data": {
      "image/png": "[encoded data removed]",
      "text/plain": [
       "<Figure size 640x480 with 1 Axes>"
      ]
     },
     "metadata": {},
     "output_type": "display_data"
    }
   ],
   "source": [
    "import matplotlib.pyplot as plt\n",
    "\n",
    "# Line plot\n",
    "df6 = pd.DataFrame(np.random.randn(1000, 2), columns=['B', 'C']).cumsum()\n",
    "df6.plot()\n",
    "plt.show()"
   ]
  },
  {
   "cell_type": "markdown",
   "metadata": {},
   "source": [
    "### 11. **I/O Operations**\n",
    "\n",
    "**Reading/Writing CSV:**\n",
    "\n",
    "```python\n",
    "# Reading from a CSV file\n",
    "df7 = pd.read_csv('data.csv')\n",
    "\n",
    "# Writing to a CSV file\n",
    "df7.to_csv('output.csv')\n",
    "```\n",
    "\n",
    "**Reading/Writing Excel:**\n",
    "```python\n",
    "# Reading from an Excel file\n",
    "df8 = pd.read_excel('data.xlsx', sheet_name='Sheet1')\n",
    "\n",
    "# Writing to an Excel file\n",
    "df8.to_excel('output.xlsx', sheet_name='Sheet1')\n",
    "```"
   ]
  },
  {
   "cell_type": "markdown",
   "metadata": {},
   "source": [
    "![alt text](../Images/python/pd1.png)\n",
    "\n",
    "![alt text](../Images/python/pd2.png)"
   ]
  }
 ],
 "metadata": {
  "kernelspec": {
   "display_name": "base",
   "language": "python",
   "name": "python3"
  },
  "language_info": {
   "codemirror_mode": {
    "name": "ipython",
    "version": 3
   },
   "file_extension": ".py",
   "mimetype": "text/x-python",
   "name": "python",
   "nbconvert_exporter": "python",
   "pygments_lexer": "ipython3",
   "version": "3.11.4"
  }
 },
 "nbformat": 4,
 "nbformat_minor": 2
}
