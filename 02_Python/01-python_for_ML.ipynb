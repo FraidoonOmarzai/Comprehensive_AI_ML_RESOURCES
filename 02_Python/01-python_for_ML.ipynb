{
 "cells": [
  {
   "attachments": {
    "python.webp": {
     "image/webp": "[encoded data removed]"
    }
   },
   "cell_type": "markdown",
   "metadata": {},
   "source": [
    "![python.webp](attachment:python.webp)"
   ]
  },
  {
   "cell_type": "markdown",
   "metadata": {},
   "source": [
    "## Definition\n",
    "\n",
    "- Python is an interpreted, object-oriented, high-level, and general-purpose programming language. Python is both a strongly typed and a dynamically typed language.\n",
    "- An interpreted language is a programming language that is generally interpreted, without compiling a program into machine instructions.\n",
    "- Object Oriented Programming (OOP) is a programming paradigm that relies on the concept of classes and objects.\n",
    "\n",
    "- Dynamic typing means that the type of the variable is determined only during runtime.\n",
    "\n",
    "- Strong typing means that variables have a type and that the type matters when performing operations on a variable.\n",
    "\n",
    "### Variable And Data Types\n",
    "Variables are containers for storing data values.\n",
    "\n",
    "Data type specifies the type of value a variable has. You can get the data type of any object by using the type()function.\n",
    "\n",
    "Python has the following data types built-in by default, in these categories:\n",
    "\n",
    "- Text Type: str\n",
    "- Numeric Types: int, float, complex\n",
    "- Sequence Types: list, tuple, range\n",
    "- Mapping Type: dict\n",
    "- Set Types: set, frozenset\n",
    "- Boolean Type: bool\n",
    "- Binary Types: bytes, bytearray, memoryview\n",
    "- None Type: NoneType\n",
    "\n",
    "\n",
    "## List [ ]\n",
    "Lists are used to store multiple items in a single variable.\n",
    "\n",
    "- Ordered\n",
    "- Mutable\n",
    "- Sequence type\n",
    "- Allows duplicated elements\n",
    "- Python has list instead of array which is dynamic type"
   ]
  },
  {
   "cell_type": "code",
   "execution_count": 1,
   "metadata": {},
   "outputs": [
    {
     "name": "stdout",
     "output_type": "stream",
     "text": [
      "['apple', 4.5, True, 23, {4, 7}, {'a': 23}, (8, 2)]\n"
     ]
    }
   ],
   "source": [
    "lst = [\"apple\", 4.5, True, 23, {4,7}, {\"a\":23}, (8,2)]\n",
    "print(lst)"
   ]
  },
  {
   "cell_type": "code",
   "execution_count": 2,
   "metadata": {},
   "outputs": [
    {
     "name": "stdout",
     "output_type": "stream",
     "text": [
      "['__add__', '__class__', '__class_getitem__', '__contains__', '__delattr__', '__delitem__', '__dir__', '__doc__', '__eq__', '__format__', '__ge__', '__getattribute__', '__getitem__', '__getstate__', '__gt__', '__hash__', '__iadd__', '__imul__', '__init__', '__init_subclass__', '__iter__', '__le__', '__len__', '__lt__', '__mul__', '__ne__', '__new__', '__reduce__', '__reduce_ex__', '__repr__', '__reversed__', '__rmul__', '__setattr__', '__setitem__', '__sizeof__', '__str__', '__subclasshook__', 'append', 'clear', 'copy', 'count', 'extend', 'index', 'insert', 'pop', 'remove', 'reverse', 'sort']\n"
     ]
    }
   ],
   "source": [
    "# we can check methods of list\n",
    "print(dir(list))"
   ]
  },
  {
   "cell_type": "markdown",
   "metadata": {},
   "source": [
    "**Method — — — — — — -Description**\n",
    "\n",
    "- append() — Adds an element at the end of the list\n",
    "- clear() — Removes all the elements from the list\n",
    "- copy() — Returns a copy of the list\n",
    "- count() — Returns the number of elements with the specified value\n",
    "- extend() — Add the elements of a list (or any iterable), to the end of the current list\n",
    "- index() — Returns the index of the first element with the specified value\n",
    "- insert() — Adds an element at the specified position\n",
    "- pop() — Removes the element at the specified position\n",
    "- remove() — Removes the first item with the specified value\n",
    "- reverse() — Reverses the order of the list\n",
    "- sort() — Sorts the list\n",
    "\n",
    "## Tuple ( )\n",
    "Tuples are used to store multiple items in a single variable.\n",
    "\n",
    "- Ordered\n",
    "- Immutable (useful where the data doesn’t change)\n",
    "- Allows duplicate elements\n",
    "- Sequence type\n",
    "- Faster than list"
   ]
  },
  {
   "cell_type": "code",
   "execution_count": 3,
   "metadata": {},
   "outputs": [
    {
     "name": "stdout",
     "output_type": "stream",
     "text": [
      "('apple', 4.5, True, 23, {8, 4}, {'a': 23}, [1, 2])\n",
      "1\n",
      "3\n"
     ]
    }
   ],
   "source": [
    "tup = (\"apple\", 4.5, True, 23, {4,8}, {\"a\":23}, [1,2])\n",
    "print(tup)\n",
    "print(tup.count(23))\n",
    "print(tup.index(23))"
   ]
  },
  {
   "cell_type": "markdown",
   "metadata": {},
   "source": [
    "Note: Tuple has two methods: count() and index()."
   ]
  },
  {
   "cell_type": "markdown",
   "metadata": {},
   "source": [
    "## Dictionary { }\n",
    "Dictionaries are used to store data values in key:value pairs.\n",
    "\n",
    "- Unordered (Python version 3.7, dictionaries are ordered)\n",
    "- key:value pairs\n",
    "- Mutable"
   ]
  },
  {
   "cell_type": "code",
   "execution_count": 4,
   "metadata": {},
   "outputs": [
    {
     "name": "stdout",
     "output_type": "stream",
     "text": [
      "{'name': 'Fraidoon', 'age': 24, 2022: 'graduation', 'list': ['a', 'b'], 'plans': (5, 6), 'dict': {'z': 2}, 'set': {20.5}}\n",
      "Fraidoon\n",
      "dict_items([('name', 'Fraidoon'), ('age', 24), (2022, 'graduation'), ('list', ['a', 'b']), ('plans', (5, 6)), ('dict', {'z': 2}), ('set', {20.5})])\n",
      "dict_keys(['name', 'age', 2022, 'list', 'plans', 'dict', 'set'])\n",
      "dict_values(['Fraidoon', 24, 'graduation', ['a', 'b'], (5, 6), {'z': 2}, {20.5}])\n"
     ]
    }
   ],
   "source": [
    "dic = {\n",
    "    \"name\": \"Fraidoon\",\n",
    "    \"age\": 24,\n",
    "    2022: \"graduation\",\n",
    "    \"list\":[\"a\",\"b\"],\n",
    "    \"plans\":(5,6),\n",
    "    \"dict\":{\n",
    "        \"z\":2\n",
    "    },\n",
    "    \"set\":{20.5}\n",
    "}\n",
    "print(dic)\n",
    "print(dic[\"name\"])\n",
    "print(dic.items())\n",
    "print(dic.keys())\n",
    "print(dic.values())"
   ]
  },
  {
   "cell_type": "code",
   "execution_count": 5,
   "metadata": {},
   "outputs": [],
   "source": [
    "# print(dir(dict))"
   ]
  },
  {
   "cell_type": "markdown",
   "metadata": {},
   "source": [
    "**Method — — — — — Description**\n",
    "\n",
    "- clear() — Removes all the elements from the dictionary\n",
    "- copy() — Returns a copy of the dictionary\n",
    "- fromkeys() — Returns a dictionary with the specified keys and value\n",
    "- get() — Returns the value of the specified key\n",
    "- items() — Returns a list containing a tuple for each key value pair\n",
    "- keys() — Returns a list containing the dictionary’s keys\n",
    "- pop() — Removes the element with the specified key\n",
    "- popitem() — Removes the last inserted key-value pair\n",
    "- setdefault() — Returns the value of the specified key. If the key does not exist: insert the key, with the specified value\n",
    "- update() — Updates the dictionary with the specified key-value pairs\n",
    "- values() — Returns a list of all the values in the dictionary"
   ]
  },
  {
   "cell_type": "markdown",
   "metadata": {},
   "source": [
    "## Sets { }\n",
    "Sets are used to store multiple items in a single variable.\n",
    "\n",
    "- Unordered\n",
    "- Mutable\n",
    "- No duplicates elements\n",
    "- Allow use of operations such as Union and Intersect operations\n",
    "- Faster than list\n",
    "- Can’t accept element that is mutable like list or Dictionary"
   ]
  },
  {
   "cell_type": "code",
   "execution_count": 6,
   "metadata": {},
   "outputs": [
    {
     "name": "stdout",
     "output_type": "stream",
     "text": [
      "{False, 'apple', 5.6, 23, ('a', 'b')}\n",
      "['__and__', '__class__', '__class_getitem__', '__contains__', '__delattr__', '__dir__', '__doc__', '__eq__', '__format__', '__ge__', '__getattribute__', '__getstate__', '__gt__', '__hash__', '__iand__', '__init__', '__init_subclass__', '__ior__', '__isub__', '__iter__', '__ixor__', '__le__', '__len__', '__lt__', '__ne__', '__new__', '__or__', '__rand__', '__reduce__', '__reduce_ex__', '__repr__', '__ror__', '__rsub__', '__rxor__', '__setattr__', '__sizeof__', '__str__', '__sub__', '__subclasshook__', '__xor__', 'add', 'clear', 'copy', 'difference', 'difference_update', 'discard', 'intersection', 'intersection_update', 'isdisjoint', 'issubset', 'issuperset', 'pop', 'remove', 'symmetric_difference', 'symmetric_difference_update', 'union', 'update']\n"
     ]
    }
   ],
   "source": [
    "sets = {\"apple\", 23, 5.6, False, ('a', 'b')}\n",
    "print(sets)\n",
    "\n",
    "print(dir(set))"
   ]
  },
  {
   "cell_type": "markdown",
   "metadata": {},
   "source": [
    "**Method — — — — — -Description**\n",
    "\n",
    "- add() — Adds an element to the set\n",
    "- clear() — Removes all the elements from the set\n",
    "- copy() — Returns a copy of the set\n",
    "- difference() — Returns a set containing the difference between two or more sets\n",
    "- difference_update() — Removes the items in this set that are also included in another, specified set\n",
    "- discard() — Remove the specified item\n",
    "- intersection() — Returns a set, that is the intersection of two other sets\n",
    "- intersection_update() — Removes the items in this set that are not present in other, specified set(s)\n",
    "- isdisjoint() — Returns whether two sets have an intersection or not\n",
    "- issubset() — Returns whether another set contains this set or not\n",
    "- issuperset() — Returns whether this set contains another set or not\n",
    "- pop() — Removes an element from the set\n",
    "- remove() — Removes the specified element\n",
    "- symmetric_difference() — Returns a set with the symmetric differences of two sets\n",
    "- symmetric_difference_update() — inserts the symmetric differences from this set and another\n",
    "- union() — Return a set containing the union of sets\n",
    "- update() — Update the set with the union of this set and others"
   ]
  },
  {
   "cell_type": "markdown",
   "metadata": {},
   "source": [
    "## Operations\n",
    "1. Arithmetic Operation: (+,-,*,/,%,**,//)\n",
    "2. Assignment Operation: (=,+=,-=,*=,/=,%=,**=,//=)\n",
    "3. Comparison Operation: (==,!=, >,<,≥,≤)\n",
    "4. Logical Operation: (and, or, not)\n",
    "5. Identity Operation: (is, is not)\n",
    "6. Membership Operation: (in, in not)\n",
    "7. Bit-wise Operation: (&,|,^,~,<<,>>)"
   ]
  },
  {
   "cell_type": "markdown",
   "metadata": {},
   "source": [
    "## Conditional Statement\n",
    "A conditional statement is used to handle conditions in your program."
   ]
  },
  {
   "cell_type": "code",
   "execution_count": 7,
   "metadata": {},
   "outputs": [
    {
     "name": "stdout",
     "output_type": "stream",
     "text": [
      "a is greater than b\n",
      "Morning!\n"
     ]
    }
   ],
   "source": [
    "a = 1999\n",
    "b = 1997\n",
    "if a > b:\n",
    "  print(\"a is greater than b\")\n",
    "elif a == b:\n",
    "  print(\"a and b are equal\")\n",
    "else:\n",
    "  print(\"b is greater than a\")\n",
    "\n",
    "\n",
    "# 2nd example\n",
    "t = 7\n",
    "msg = 'Morning!' if t==7 else 'Afternoon!' \n",
    "print(msg)"
   ]
  },
  {
   "cell_type": "markdown",
   "metadata": {},
   "source": [
    "## Looping\n",
    "Looping means repeating something over and over until a particular condition is satisfied.\n",
    "\n",
    "For loop is an entry-controlled loop and it is used when the number of iterations is known, whereas a while loop is an exit-controlled loop, and execution is done in the while loop until the statement in the program is proved wrong.\n",
    "\n",
    "#### for loop"
   ]
  },
  {
   "cell_type": "code",
   "execution_count": 8,
   "metadata": {},
   "outputs": [],
   "source": [
    "for i in range(4, 120, 2):\n",
    "  pass\n",
    "\n",
    "# from 4 to 118, and incrementing by 2"
   ]
  },
  {
   "cell_type": "code",
   "execution_count": 9,
   "metadata": {},
   "outputs": [
    {
     "name": "stdout",
     "output_type": "stream",
     "text": [
      "apple\n",
      "banana\n"
     ]
    }
   ],
   "source": [
    "fruits = [\"apple\", \"banana\", \"cherry\"]\n",
    "for x in fruits:\n",
    "  print(x)\n",
    "  if x == \"banana\":\n",
    "    break"
   ]
  },
  {
   "cell_type": "markdown",
   "metadata": {},
   "source": [
    "#### while loop"
   ]
  },
  {
   "cell_type": "code",
   "execution_count": 10,
   "metadata": {},
   "outputs": [
    {
     "name": "stdout",
     "output_type": "stream",
     "text": [
      "funny example\n",
      "funny example\n",
      "funny example\n"
     ]
    }
   ],
   "source": [
    "i = 1\n",
    "while i < 6:\n",
    "  print(\"funny example\")\n",
    "  if i == 3:\n",
    "    break\n",
    "  i += 1"
   ]
  },
  {
   "cell_type": "markdown",
   "metadata": {},
   "source": [
    "## Function\n",
    "A function is a block of code that only runs when called.\n",
    "\n",
    "A parameter is the variable listed inside the parentheses in the function definition.\n",
    "\n",
    "An argument is a value that is sent to the function when it is called.\n",
    "\n",
    "A function might have any number of arguments, keyword arguments, and default parameter values, and we can also pass a list as an argument."
   ]
  },
  {
   "cell_type": "code",
   "execution_count": 11,
   "metadata": {},
   "outputs": [
    {
     "name": "stdout",
     "output_type": "stream",
     "text": [
      "Emil\n",
      "Tobias\n",
      "Linus\n",
      "His last name is Refsnes\n"
     ]
    }
   ],
   "source": [
    "# Arbitrary Arguments, *args\n",
    "def fun(*values):\n",
    "  for v in values:\n",
    "    print(v)\n",
    "\n",
    "fun(\"Emil\", \"Tobias\", \"Linus\")\n",
    "\n",
    "# Arbitrary Keyword Arguments, **kwargs\n",
    "def my_fun(**kid):\n",
    "  print(\"His last name is \" + kid[\"lname\"])\n",
    "\n",
    "my_fun(fname = \"Tobias\", lname = \"Refsnes\")"
   ]
  },
  {
   "cell_type": "markdown",
   "metadata": {},
   "source": [
    "## Python OOP\n",
    "An Object is an instance of a Class.\n",
    "\n",
    "A class is like a blueprint while an instance, also known as an object, is a copy of the class with actual values."
   ]
  },
  {
   "cell_type": "code",
   "execution_count": 12,
   "metadata": {},
   "outputs": [
    {
     "name": "stdout",
     "output_type": "stream",
     "text": [
      "1000000\n"
     ]
    }
   ],
   "source": [
    "class Car:\n",
    "         \n",
    "    # Class Variable\n",
    "    vehicle = 'car'   \n",
    "         \n",
    "    # The init method or constructor\n",
    "    def __init__(self, model):\n",
    "             \n",
    "        # Instance Variable\n",
    "        self.model = model            \n",
    "     \n",
    "    # Adds an instance variable\n",
    "    def setprice(self, price):\n",
    "        self.price = price\n",
    "         \n",
    "    # Retrieves instance variable    \n",
    "    def getprice(self):    \n",
    "        return self.price    \n",
    "     \n",
    "# Driver Code\n",
    "Audi = Car(\"R8\")\n",
    "Audi.setprice(1000000)\n",
    "print(Audi.getprice())"
   ]
  },
  {
   "cell_type": "markdown",
   "metadata": {},
   "source": [
    "#### Constructors:\n",
    "Are generally used for instantiating an object. The task of constructors is to initialize (assign values) to the data members of the class when an object of the class is created. In Python, the init() method is called the constructor and is always called when an object is created."
   ]
  },
  {
   "cell_type": "code",
   "execution_count": 13,
   "metadata": {},
   "outputs": [],
   "source": [
    "#Syntax of constructor declaration : \n",
    "def __init__(self):\n",
    "    pass\n",
    "    # body of the constructor"
   ]
  },
  {
   "cell_type": "markdown",
   "metadata": {},
   "source": [
    "#### Destructors: \n",
    "Are called when an object gets destroyed. In Python, destructors are not needed as much as in C++ because Python has a garbage collector that handles memory management automatically. The__del__() method is known as a destructor method in Python. It is called when all references to the object have been deleted i.e when an object is garbage collected"
   ]
  },
  {
   "cell_type": "code",
   "execution_count": 14,
   "metadata": {},
   "outputs": [],
   "source": [
    "#Syntax of destructor declaration : \n",
    "def __del__(self):\n",
    "    pass\n",
    "    # body of destructor"
   ]
  },
  {
   "cell_type": "markdown",
   "metadata": {},
   "source": [
    "#### Inheritance: \n",
    "Allows us to define a class that inherits all the methods and properties from another class. Or when one object acquires all the properties and behavior of a parent object.\n",
    "\n",
    "**Types of inheritance:**\n",
    "\n",
    "1. Single Inheritance\n",
    "2. Multiple Inheritance\n",
    "3. Multilevel Inheritance\n",
    "4. Hierarchical Inheritance\n",
    "5. Hybrid Inheritance"
   ]
  },
  {
   "cell_type": "markdown",
   "metadata": {},
   "source": [
    "The **parent class** is the class being inherited from, also called a base class.\n",
    "\n",
    "A **child class** is a class that inherits from another class, also called a derived class."
   ]
  },
  {
   "cell_type": "code",
   "execution_count": 15,
   "metadata": {},
   "outputs": [
    {
     "name": "stdout",
     "output_type": "stream",
     "text": [
      "Welcome Mike Olsen to the class of 2019\n"
     ]
    }
   ],
   "source": [
    "class Person:\n",
    "  def __init__(self, fname, lname):\n",
    "    self.firstname = fname\n",
    "    self.lastname = lname\n",
    "\n",
    "  def printname(self):\n",
    "    print(self.firstname, self.lastname)\n",
    "\n",
    "class Student(Person):\n",
    "  def __init__(self, fname, lname, year):\n",
    "    # super() function will make the child class inherit all the methods and properties from its parent\n",
    "    super().__init__(fname, lname)\n",
    "    self.graduationyear = year\n",
    "  def welcome(self):\n",
    "    print(\"Welcome\", self.firstname, self.lastname, \"to the class of\", self.graduationyear)\n",
    "\n",
    "x = Student(\"Mike\", \"Olsen\", 2019)\n",
    "x.welcome()"
   ]
  },
  {
   "cell_type": "markdown",
   "metadata": {},
   "source": [
    "**Polymorphism:** It is a programming term that refers to the use of the same function name, but with different signatures, for multiple types.\n",
    "\n",
    "This process of re-implementing a method in the child class is known as **Method Overriding**.\n",
    "\n",
    "**Abstraction** is used to hide the internal functionality of the function from the users. The users only interact with the basic implementation of the function, but the inner work is hidden. Users are familiar with “what function does” but they don’t know “how it does.”\n",
    "\n",
    "**Encapsulation:** Wrapping code and data together into a single unit is known as encapsulation."
   ]
  },
  {
   "cell_type": "markdown",
   "metadata": {},
   "source": [
    "To prevent accidental change, an object’s variable can only be changed by an object’s method. Those types of variables are known as **private variables**.\n",
    "\n",
    "**Protected members** (in C++ and JAVA) are those members of the class that cannot be accessed outside the class but can be accessed from within the class and its sub-classes. To accomplish this in Python, just follow the convention by prefixing the name of the member with a single underscore “_”.\n",
    "\n",
    "**Private members** are similar to protected members, the difference is that the class members declared private should neither be accessed outside the class nor by any base class. In Python, there is no existence of Private instance variables that cannot be accessed except inside a class. However, to define a private member prefix the member name with the double underscore “__”."
   ]
  },
  {
   "cell_type": "markdown",
   "metadata": {},
   "source": [
    "## Error And Exception\n",
    "- The `try` block lets you test a block of code for errors.\n",
    "- The `except` block lets you handle the error.\n",
    "- The `else` block lets you execute code when there is no error.\n",
    "- The `finally` block lets you execute code, regardless of the result of the try- and except blocks."
   ]
  },
  {
   "cell_type": "code",
   "execution_count": 16,
   "metadata": {},
   "outputs": [
    {
     "name": "stdout",
     "output_type": "stream",
     "text": [
      "<__main__.Student object at 0x00000231DCE3A9F0>\n",
      "Nothing went wrong\n",
      "finished\n"
     ]
    }
   ],
   "source": [
    "try:\n",
    " print(x)\n",
    "except Exeption as e:\n",
    " print(\"Something went wrong\")\n",
    " raise e\n",
    "else:\n",
    " print(\"Nothing went wrong\")\n",
    "finally:\n",
    " print(\"finished\")"
   ]
  },
  {
   "cell_type": "markdown",
   "metadata": {},
   "source": [
    "## File Handling\n",
    "The key function for working with files in Python is the open() function.\n",
    "\n",
    "The open() function takes two parameters; filename, and mode.\n",
    "\n",
    "There are four different methods (modes) for opening a file:\n",
    "\n",
    "- `\"r\"` - Read - Default value. Opens a file for reading, error if the file does not exist\n",
    "- `\"a\"` - Append - Opens a file for appending, creates the file if it does not exist\n",
    "- `\"w\"` - Write - Opens a file for writing, creates the file if it does not exist\n",
    "- `\"x\"` - Create - Creates the specified file, and returns an error if the file exists"
   ]
  },
  {
   "cell_type": "code",
   "execution_count": 17,
   "metadata": {},
   "outputs": [
    {
     "name": "stdout",
     "output_type": "stream",
     "text": [
      "[Errno 2] No such file or directory: 'welcome.txt'\n"
     ]
    }
   ],
   "source": [
    "# open the file and read the file\n",
    "try:\n",
    "    f = open(\"welcome.txt\", \"r+\")\n",
    "    print(f.read()) # print(f.readline())\n",
    "except Exception as e:\n",
    "    print(e)"
   ]
  },
  {
   "cell_type": "code",
   "execution_count": 18,
   "metadata": {},
   "outputs": [],
   "source": [
    "# append content to the file\n",
    "f = open(\"welcome.txt\", \"a\")\n",
    "f.write(\"Now the file has more content!\")\n",
    "f.close()"
   ]
  },
  {
   "cell_type": "code",
   "execution_count": 19,
   "metadata": {},
   "outputs": [
    {
     "name": "stdout",
     "output_type": "stream",
     "text": [
      "Error: The file 'example.txt' was not found.\n"
     ]
    }
   ],
   "source": [
    "# Opening a file in read mode\n",
    "file_path = 'example.txt'\n",
    "\n",
    "try:\n",
    "    with open(file_path, 'r') as file:\n",
    "        content = file.read()\n",
    "        print(\"File content:\\n\", content)\n",
    "except FileNotFoundError:\n",
    "    print(f\"Error: The file '{file_path}' was not found.\")\n",
    "except IOError as e:\n",
    "    print(f\"Error reading the file '{file_path}': {e}\")"
   ]
  },
  {
   "cell_type": "markdown",
   "metadata": {},
   "source": [
    "## General Topics\n",
    "\n",
    "#### Map function: \n",
    "- The map() function returns a map object(which is an iterator) of the results after applying the given function to each item of a given iterable (list, tuple, etc.)"
   ]
  },
  {
   "cell_type": "code",
   "execution_count": 20,
   "metadata": {},
   "outputs": [
    {
     "name": "stdout",
     "output_type": "stream",
     "text": [
      "[2, 4, 6, 8]\n"
     ]
    }
   ],
   "source": [
    "'''\n",
    "syntax: map(fun, iter)\n",
    "'''\n",
    "# Return double of n\n",
    "def addition(n):\n",
    "    return n + n\n",
    "  \n",
    "# We double all numbers using map()\n",
    "numbers = (1, 2, 3, 4)\n",
    "result = map(addition, numbers)\n",
    "print(list(result))"
   ]
  },
  {
   "cell_type": "markdown",
   "metadata": {},
   "source": [
    "#### lambda function: \n",
    "- Is an anonymous function, which means that the function is without a name."
   ]
  },
  {
   "cell_type": "code",
   "execution_count": 21,
   "metadata": {},
   "outputs": [
    {
     "name": "stdout",
     "output_type": "stream",
     "text": [
      "TAERG\n"
     ]
    }
   ],
   "source": [
    "# lambda returns a function object \n",
    "rev_upper = lambda s: s.upper()[::-1] \n",
    "print(rev_upper(\"great\"))"
   ]
  },
  {
   "cell_type": "markdown",
   "metadata": {},
   "source": [
    "#### Filter function: \n",
    "- The filter() method filters the given sequence with the help of a function that tests each element in the sequence to be true or not."
   ]
  },
  {
   "cell_type": "code",
   "execution_count": 22,
   "metadata": {},
   "outputs": [
    {
     "name": "stdout",
     "output_type": "stream",
     "text": [
      "[1, 3, 5, 13]\n"
     ]
    }
   ],
   "source": [
    "# a list contains both even and odd numbers. \n",
    "seq = [0, 1, 2, 3, 5, 8, 13]\n",
    "  \n",
    "# result contains odd numbers of the list\n",
    "result = filter(lambda x: x % 2 != 0, seq)\n",
    "print(list(result))"
   ]
  },
  {
   "cell_type": "markdown",
   "metadata": {},
   "source": [
    "#### Decorator: \n",
    "- Python decorators allow you to tack on extra functionality to an already existing function. They use the @ operator and are then placed on top of the original function."
   ]
  },
  {
   "cell_type": "code",
   "execution_count": 23,
   "metadata": {},
   "outputs": [
    {
     "data": {
      "text/plain": [
       "'\\nAbove code is equivalent to -\\ndef hello_decorator():\\n    print(\"Gfg\")\\n    \\nhello_decorator = gfg_decorator(hello_decorator)\\n'"
      ]
     },
     "execution_count": 23,
     "metadata": {},
     "output_type": "execute_result"
    }
   ],
   "source": [
    "'''@gfg_decorator\n",
    "def hello_decorator():\n",
    "    print(\"Gfg\")\n",
    "'''\n",
    "    \n",
    "    \n",
    "'''\n",
    "Above code is equivalent to -\n",
    "def hello_decorator():\n",
    "    print(\"Gfg\")\n",
    "    \n",
    "hello_decorator = gfg_decorator(hello_decorator)\n",
    "'''"
   ]
  },
  {
   "cell_type": "code",
   "execution_count": 24,
   "metadata": {},
   "outputs": [
    {
     "name": "stdout",
     "output_type": "stream",
     "text": [
      "Something is happening before the function is called.\n",
      "Hello!\n",
      "Something is happening after the function is called.\n"
     ]
    }
   ],
   "source": [
    "# Decorator function\n",
    "def my_decorator(func):\n",
    "    def wrapper():\n",
    "        print(\"Something is happening before the function is called.\")\n",
    "        func()  # Call the original function\n",
    "        print(\"Something is happening after the function is called.\")\n",
    "    return wrapper\n",
    "\n",
    "# Function decorated with my_decorator\n",
    "@my_decorator\n",
    "def say_hello():\n",
    "    print(\"Hello!\")\n",
    "# Calling the decorated function\n",
    "say_hello()"
   ]
  },
  {
   "cell_type": "markdown",
   "metadata": {},
   "source": [
    "#### Generator: \n",
    "- A generator function is defined like a normal function, but whenever it needs to generate a value, it does so with the yield keyword rather than return. If the body of a def contains yield, the function automatically becomes a generator function."
   ]
  },
  {
   "cell_type": "code",
   "execution_count": 25,
   "metadata": {},
   "outputs": [
    {
     "name": "stdout",
     "output_type": "stream",
     "text": [
      "0\n",
      "1\n",
      "8\n",
      "27\n",
      "64\n",
      "125\n",
      "216\n",
      "343\n",
      "512\n",
      "729\n",
      "0\n",
      "1\n",
      "8\n",
      "27\n",
      "64\n",
      "125\n",
      "216\n",
      "343\n",
      "512\n",
      "729\n"
     ]
    }
   ],
   "source": [
    "def create_cube(n):\n",
    " r = []\n",
    " for x in range(n):\n",
    "  r.append(x**3)\n",
    " return r\n",
    "\n",
    "for x in create_cube(10):\n",
    " print(x)\n",
    "###################### OR using generator ##################\n",
    "def create_cube(n):\n",
    " for x in range(n):\n",
    "  yield x**3\n",
    "for x in create_cube(10):\n",
    " print(x)"
   ]
  }
 ],
 "metadata": {
  "kernelspec": {
   "display_name": "Python 3",
   "language": "python",
   "name": "python3"
  },
  "language_info": {
   "codemirror_mode": {
    "name": "ipython",
    "version": 3
   },
   "file_extension": ".py",
   "mimetype": "text/x-python",
   "name": "python",
   "nbconvert_exporter": "python",
   "pygments_lexer": "ipython3",
   "version": "3.12.1"
  }
 },
 "nbformat": 4,
 "nbformat_minor": 2
}
