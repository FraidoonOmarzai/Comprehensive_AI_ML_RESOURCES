{
 "cells": [
  {
   "cell_type": "markdown",
   "metadata": {},
   "source": [
    "<h1 align=center> Numpy In Depth With Practical Example </h1>\n",
    "\n",
    "**NumPy** (Numerical Python) is a fundamental package for scientific computing in Python. It provides support for arrays, matrices, and many mathematical functions to operate on these data structures.\n",
    "\n",
    "![alt text](../Images/python/np.png)"
   ]
  },
  {
   "cell_type": "markdown",
   "metadata": {},
   "source": [
    "### Installation "
   ]
  },
  {
   "cell_type": "code",
   "execution_count": 1,
   "metadata": {},
   "outputs": [
    {
     "name": "stdout",
     "output_type": "stream",
     "text": [
      "Requirement already satisfied: numpy in c:\\users\\44787\\anaconda3\\lib\\site-packages (1.24.3)\n"
     ]
    },
    {
     "name": "stderr",
     "output_type": "stream",
     "text": [
      "\n",
      "[notice] A new release of pip is available: 24.1.1 -> 24.2\n",
      "[notice] To update, run: python.exe -m pip install --upgrade pip\n"
     ]
    }
   ],
   "source": [
    "!pip install numpy"
   ]
  },
  {
   "cell_type": "code",
   "execution_count": 2,
   "metadata": {},
   "outputs": [
    {
     "name": "stdout",
     "output_type": "stream",
     "text": [
      "1.24.3\n"
     ]
    }
   ],
   "source": [
    "import numpy as np\n",
    "\n",
    "print(np.__version__)"
   ]
  },
  {
   "cell_type": "markdown",
   "metadata": {},
   "source": [
    "### 1. **Creating Arrays**\n",
    "\n",
    "NumPy provides a powerful array object called ndarray. Arrays are homogeneous, meaning all elements have the same data type."
   ]
  },
  {
   "cell_type": "code",
   "execution_count": 3,
   "metadata": {},
   "outputs": [
    {
     "name": "stdout",
     "output_type": "stream",
     "text": [
      "1D Array: [1 2 3 4]\n",
      "2D Array:\n",
      " [[1 2 3]\n",
      " [4 5 6]]\n",
      "3D Array:\n",
      " [[[1 2]\n",
      "  [3 4]]\n",
      "\n",
      " [[5 6]\n",
      "  [7 8]]]\n"
     ]
    }
   ],
   "source": [
    "import numpy as np\n",
    "\n",
    "# 1D array\n",
    "arr1 = np.array([1, 2, 3, 4])\n",
    "print(\"1D Array:\", arr1)\n",
    "\n",
    "# 2D array\n",
    "arr2 = np.array([[1, 2, 3], [4, 5, 6]])\n",
    "print(\"2D Array:\\n\", arr2)\n",
    "\n",
    "# 3D array\n",
    "arr3 = np.array([[[1, 2], [3, 4]], [[5, 6], [7, 8]]])\n",
    "print(\"3D Array:\\n\", arr3)"
   ]
  },
  {
   "cell_type": "markdown",
   "metadata": {},
   "source": [
    "### 2. **Array Attributes**\n",
    "\n",
    "Understanding array attributes is essential for manipulating arrays effectively."
   ]
  },
  {
   "cell_type": "code",
   "execution_count": 4,
   "metadata": {},
   "outputs": [
    {
     "name": "stdout",
     "output_type": "stream",
     "text": [
      "Array Shape: (2, 3)\n",
      "Array Dimensions: 2\n",
      "Array Size: 6\n",
      "Array Data Type: int32\n"
     ]
    }
   ],
   "source": [
    "arr = np.array([[1, 2, 3], [4, 5, 6]])\n",
    "\n",
    "print(\"Array Shape:\", arr.shape)  # Shape of the array\n",
    "print(\"Array Dimensions:\", arr.ndim)  # Number of dimensions\n",
    "print(\"Array Size:\", arr.size)  # Total number of elements\n",
    "print(\"Array Data Type:\", arr.dtype)  # Data type of elements"
   ]
  },
  {
   "cell_type": "markdown",
   "metadata": {},
   "source": [
    "### 3. **Array Operations**\n",
    "\n",
    "NumPy supports element-wise operations, which are much faster than Python loops."
   ]
  },
  {
   "cell_type": "code",
   "execution_count": 5,
   "metadata": {},
   "outputs": [
    {
     "name": "stdout",
     "output_type": "stream",
     "text": [
      "Addition: [11 22 33 44]\n",
      "Multiplication: [ 10  40  90 160]\n",
      "Square Root: [1.         1.41421356 1.73205081 2.        ]\n",
      "Exponent: [ 2.71828183  7.3890561  20.08553692 54.59815003]\n"
     ]
    }
   ],
   "source": [
    "arr1 = np.array([1, 2, 3, 4])\n",
    "arr2 = np.array([10, 20, 30, 40])\n",
    "\n",
    "print(\"Addition:\", arr1 + arr2)\n",
    "print(\"Multiplication:\", arr1 * arr2)\n",
    "print(\"Square Root:\", np.sqrt(arr1))\n",
    "print(\"Exponent:\", np.exp(arr1))"
   ]
  },
  {
   "cell_type": "markdown",
   "metadata": {},
   "source": [
    "### 4. **Indexing and Slicing**\n",
    "\n",
    "NumPy arrays can be indexed and sliced in various ways."
   ]
  },
  {
   "cell_type": "code",
   "execution_count": 6,
   "metadata": {},
   "outputs": [
    {
     "name": "stdout",
     "output_type": "stream",
     "text": [
      "Element at [1, 2]: 7\n",
      "Slicing rows 1 and 2, columns 1 and 2:\n",
      " [[ 6  7]\n",
      " [10 11]]\n",
      "Elements greater than 5: [ 6  7  8  9 10 11 12]\n"
     ]
    }
   ],
   "source": [
    "arr = np.array([[1, 2, 3, 4], [5, 6, 7, 8], [9, 10, 11, 12]])\n",
    "\n",
    "# Accessing single element\n",
    "print(\"Element at [1, 2]:\", arr[1, 2])\n",
    "\n",
    "# Slicing\n",
    "print(\"Slicing rows 1 and 2, columns 1 and 2:\\n\", arr[1:3, 1:3])\n",
    "\n",
    "# Boolean indexing\n",
    "print(\"Elements greater than 5:\", arr[arr > 5])"
   ]
  },
  {
   "cell_type": "markdown",
   "metadata": {},
   "source": [
    "### 5. **Broadcasting**\n",
    "\n",
    "Broadcasting allows NumPy to perform operations on arrays of different shapes."
   ]
  },
  {
   "cell_type": "code",
   "execution_count": 7,
   "metadata": {},
   "outputs": [
    {
     "name": "stdout",
     "output_type": "stream",
     "text": [
      "Broadcasted Addition:\n",
      " [[2 2 4]\n",
      " [5 5 7]]\n"
     ]
    }
   ],
   "source": [
    "arr = np.array([[1, 2, 3], [4, 5, 6]])\n",
    "vec = np.array([1, 0, 1])\n",
    "\n",
    "# Adding vector to each row of the matrix\n",
    "result = arr + vec\n",
    "print(\"Broadcasted Addition:\\n\", result)"
   ]
  },
  {
   "cell_type": "markdown",
   "metadata": {},
   "source": [
    "### 6. **Reshaping and Resizing**\n",
    "\n",
    "You can change the shape of an array using `reshape` and `resize`."
   ]
  },
  {
   "cell_type": "code",
   "execution_count": 12,
   "metadata": {},
   "outputs": [
    {
     "name": "stdout",
     "output_type": "stream",
     "text": [
      "Reshaped Array:\n",
      " [[1 2]\n",
      " [3 4]\n",
      " [5 6]\n",
      " [7 8]]\n",
      "Resized Array:\n",
      " [[1 2]\n",
      " [3 4]]\n"
     ]
    }
   ],
   "source": [
    "arr = np.array([[1, 2, 3, 4], [5, 6, 7, 8]])\n",
    "\n",
    "\n",
    "# Reshaping\n",
    "reshaped = arr.reshape(4, 2)\n",
    "print(\"Reshaped Array:\\n\", reshaped)\n",
    "\n",
    "# Resizing\n",
    "arr.resize(2, 2, refcheck=False)\n",
    "print(\"Resized Array:\\n\", arr)"
   ]
  },
  {
   "cell_type": "markdown",
   "metadata": {},
   "source": [
    "### 7. **Statistical Operations**\n",
    "\n",
    "NumPy provides many statistical functions like `mean`, `sum`, `min`, `max`, etc."
   ]
  },
  {
   "cell_type": "code",
   "execution_count": 13,
   "metadata": {},
   "outputs": [
    {
     "name": "stdout",
     "output_type": "stream",
     "text": [
      "Sum: 21\n",
      "Mean: 3.5\n",
      "Max: 6\n",
      "Standard Deviation: 1.707825127659933\n",
      "Column-wise Sum: [5 7 9]\n"
     ]
    }
   ],
   "source": [
    "arr = np.array([[1, 2, 3], [4, 5, 6]])\n",
    "\n",
    "print(\"Sum:\", np.sum(arr))\n",
    "print(\"Mean:\", np.mean(arr))\n",
    "print(\"Max:\", np.max(arr))\n",
    "print(\"Standard Deviation:\", np.std(arr))\n",
    "\n",
    "# Operations along an axis\n",
    "print(\"Column-wise Sum:\", np.sum(arr, axis=0))"
   ]
  },
  {
   "cell_type": "markdown",
   "metadata": {},
   "source": [
    "### 8. **Linear Algebra Operations**\n",
    "\n",
    "NumPy also provides a suite of linear algebra functions, such as dot products, matrix multiplications, etc."
   ]
  },
  {
   "cell_type": "code",
   "execution_count": 14,
   "metadata": {},
   "outputs": [
    {
     "name": "stdout",
     "output_type": "stream",
     "text": [
      "Dot Product:\n",
      " [[19 22]\n",
      " [43 50]]\n",
      "Determinant: -2.0000000000000004\n"
     ]
    }
   ],
   "source": [
    "# Dot product\n",
    "arr1 = np.array([[1, 2], [3, 4]])\n",
    "arr2 = np.array([[5, 6], [7, 8]])\n",
    "\n",
    "dot_product = np.dot(arr1, arr2)\n",
    "print(\"Dot Product:\\n\", dot_product)\n",
    "\n",
    "# Determinant\n",
    "det = np.linalg.det(arr1)\n",
    "print(\"Determinant:\", det)"
   ]
  },
  {
   "cell_type": "markdown",
   "metadata": {},
   "source": [
    "### 9. **Random Numbers**\n",
    "\n",
    "NumPy's `random` module allows generating random numbers, arrays, and performing operations like shuffling."
   ]
  },
  {
   "cell_type": "code",
   "execution_count": 15,
   "metadata": {},
   "outputs": [
    {
     "name": "stdout",
     "output_type": "stream",
     "text": [
      "Random Array:\n",
      " [[0.88675288 0.34394356 0.54408289]\n",
      " [0.22077226 0.24598902 0.78553326]\n",
      " [0.84237563 0.69745981 0.59995327]]\n",
      "Random Integers:\n",
      " [[7 2 2]\n",
      " [7 1 1]\n",
      " [2 6 6]]\n",
      "Shuffled Array: [3 1 4 5 2]\n"
     ]
    }
   ],
   "source": [
    "# Generating a random array\n",
    "rand_arr = np.random.rand(3, 3)\n",
    "print(\"Random Array:\\n\", rand_arr)\n",
    "\n",
    "# Generating random integers\n",
    "rand_ints = np.random.randint(1, 10, size=(3, 3))\n",
    "print(\"Random Integers:\\n\", rand_ints)\n",
    "\n",
    "# Shuffling an array\n",
    "arr = np.array([1, 2, 3, 4, 5])\n",
    "np.random.shuffle(arr)\n",
    "print(\"Shuffled Array:\", arr)"
   ]
  },
  {
   "cell_type": "markdown",
   "metadata": {},
   "source": [
    "### 10. **Saving and Loading Arrays**\n",
    "\n",
    "NumPy allows you to save and load arrays to and from files."
   ]
  },
  {
   "cell_type": "code",
   "execution_count": 16,
   "metadata": {},
   "outputs": [
    {
     "name": "stdout",
     "output_type": "stream",
     "text": [
      "Loaded Array:\n",
      " [[1 2 3]\n",
      " [4 5 6]]\n"
     ]
    }
   ],
   "source": [
    "arr = np.array([[1, 2, 3], [4, 5, 6]])\n",
    "\n",
    "# Saving array to a file\n",
    "np.save('my_array.npy', arr)\n",
    "\n",
    "# Loading array from a file\n",
    "loaded_arr = np.load('my_array.npy')\n",
    "print(\"Loaded Array:\\n\", loaded_arr)"
   ]
  }
 ],
 "metadata": {
  "kernelspec": {
   "display_name": "base",
   "language": "python",
   "name": "python3"
  },
  "language_info": {
   "codemirror_mode": {
    "name": "ipython",
    "version": 3
   },
   "file_extension": ".py",
   "mimetype": "text/x-python",
   "name": "python",
   "nbconvert_exporter": "python",
   "pygments_lexer": "ipython3",
   "version": "3.11.4"
  }
 },
 "nbformat": 4,
 "nbformat_minor": 2
}
