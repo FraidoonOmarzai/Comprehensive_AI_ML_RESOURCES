{
 "cells": [
  {
   "cell_type": "markdown",
   "metadata": {},
   "source": [
    "<h1 align=center> Introduction</h1>\n",
    "\n",
    "![alt text](../Images/ml/aimldl.png)\n",
    "\n",
    "\n",
    "### **Artificial Intelligence (AI):** \n",
    "- AI is the stimulation of human intelligence process by machine\n",
    "\n",
    "### **Machine Learning (ML):** \n",
    "- ML gives the computer the ability to learn without being explicitly programmed\n",
    "\n",
    "**Types of ML:**\n",
    "\n",
    "- ***Supervised Learning:*** Using labeled training data\n",
    "    - *Regression:* predicting continuous values\n",
    "    - *Classification:* predicting discrete values\n",
    "- ***Unsupervised Learning:*** trained using unlabeled data. It is a self learning techniques where the system should discover the feature.\n",
    "- ***Reinforcement Learning:*** is to train an agent to complete a task within an uncertain environment.\n",
    "\n",
    "### **Deep Learning (DL):** \n",
    "- DL mimic the human brain for processing the dataset and making efficient decision\n",
    "\n",
    "### **Data Science:** \n",
    "- Data Science uses scientific methods and algorithms to extract knowledge and insights from many structured and unstructured data\n",
    "\n",
    "### **Data Analysis (DA):** \n",
    "- Data Analysis is the process of inspecting, cleaning, transforming and modeling data with the goal of discovering useful information by informing conclusions and supporting decision making"
   ]
  },
  {
   "cell_type": "markdown",
   "metadata": {},
   "source": [
    "### Different Rools And Thier Responsibilities\n",
    "\n",
    "\n",
    "#### **ML Engineer:**\n",
    "- Responsible for implementing AI system\n",
    "\n",
    "#### **Product Manager:**\n",
    "- Responsible for identifying and scoping the projects\n",
    "\n",
    "#### **Data Engineer:**\n",
    "- Responsible for organizing data and ensuring the data quality\n",
    "\n",
    "#### **Data Scienctist:**\n",
    "- Responsible for analyzing data to make recommendations to guide project or business decisions\n",
    "\n",
    "#### **Project Manager:**\n",
    "- Responsible for coordinating project execution\n",
    "\n",
    "#### **ML Researcher:**\n",
    "- Responsible for developing advanced AI Technologies\n",
    "\n",
    "#### **Software Engineer:**\n",
    "- Responsible for writing software applications\n"
   ]
  }
 ],
 "metadata": {
  "language_info": {
   "name": "python"
  }
 },
 "nbformat": 4,
 "nbformat_minor": 2
}
